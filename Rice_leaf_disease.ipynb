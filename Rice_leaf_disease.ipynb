{
 "cells": [
  {
   "cell_type": "code",
   "execution_count": 1,
   "id": "247616de-a09f-4c1e-be55-ad26fe7f762e",
   "metadata": {},
   "outputs": [
    {
     "name": "stdout",
     "output_type": "stream",
     "text": [
      "Directory exists: /Users/rohithasagadam/downloads/rice_leaf_diseases\n"
     ]
    }
   ],
   "source": [
    "import os\n",
    "\n",
    "directory = '/Users/rohithasagadam/downloads/rice_leaf_diseases'  # Ensure the name matches exactly\n",
    "if os.path.exists(directory):\n",
    "    print(f\"Directory exists: {directory}\")\n",
    "else:\n",
    "    print(f\"No such directory: {directory}\")\n"
   ]
  },
  {
   "cell_type": "code",
   "execution_count": 3,
   "id": "dfa34924-7331-479d-b6fe-2ab923adced7",
   "metadata": {},
   "outputs": [
    {
     "name": "stdout",
     "output_type": "stream",
     "text": [
      "Processing file: /Users/rohithasagadam/downloads/rice_leaf_diseases/Bacterial leaf blight\n",
      "Processing file: /Users/rohithasagadam/downloads/rice_leaf_diseases/Leaf smut\n",
      "Processing file: /Users/rohithasagadam/downloads/rice_leaf_diseases/Brown spot\n"
     ]
    }
   ],
   "source": [
    "import os\n",
    "\n",
    "directory = '/Users/rohithasagadam/downloads/rice_leaf_diseases'\n",
    "\n",
    "# List all files in the directory\n",
    "for filename in os.listdir(directory):\n",
    "    file_path = os.path.join(directory, filename)\n",
    "    # Skip over the .DS_Store file if it exists\n",
    "    if filename != '.DS_Store':\n",
    "        print(f\"Processing file: {file_path}\")\n"
   ]
  },
  {
   "cell_type": "code",
   "execution_count": 5,
   "id": "87a76d2d-bfb9-44da-b9c8-4b0fc59c5a4a",
   "metadata": {},
   "outputs": [
    {
     "name": "stdout",
     "output_type": "stream",
     "text": [
      "Processing file: /Users/rohithasagadam/Downloads/rice_leaf_diseases/Bacterial leaf blight\n",
      "Error processing /Users/rohithasagadam/Downloads/rice_leaf_diseases/Bacterial leaf blight: [Errno 21] Is a directory: '/Users/rohithasagadam/Downloads/rice_leaf_diseases/Bacterial leaf blight'\n",
      "Processing file: /Users/rohithasagadam/Downloads/rice_leaf_diseases/Leaf smut\n",
      "Error processing /Users/rohithasagadam/Downloads/rice_leaf_diseases/Leaf smut: [Errno 21] Is a directory: '/Users/rohithasagadam/Downloads/rice_leaf_diseases/Leaf smut'\n",
      "Processing file: /Users/rohithasagadam/Downloads/rice_leaf_diseases/Brown spot\n",
      "Error processing /Users/rohithasagadam/Downloads/rice_leaf_diseases/Brown spot: [Errno 21] Is a directory: '/Users/rohithasagadam/Downloads/rice_leaf_diseases/Brown spot'\n"
     ]
    }
   ],
   "source": [
    "from PIL import Image\n",
    "import os\n",
    "\n",
    "directory = '/Users/rohithasagadam/Downloads/rice_leaf_diseases'\n",
    "\n",
    "for filename in os.listdir(directory):\n",
    "    file_path = os.path.join(directory, filename)\n",
    "    \n",
    "    if filename != '.DS_Store':\n",
    "        # Check if it's an image file (or has no extension)\n",
    "        if filename.endswith(('.jpg', '.png', '.jpeg')) or '.' not in filename:\n",
    "            print(f\"Processing file: {file_path}\")\n",
    "            try:\n",
    "                image = Image.open(file_path)  # Attempt to open the file as an image\n",
    "                image.show()  # Display the image (optional)\n",
    "            except Exception as e:\n",
    "                print(f\"Error processing {file_path}: {e}\")\n",
    "        else:\n",
    "            print(f\"Skipping non-image file: {file_path}\")\n"
   ]
  },
  {
   "cell_type": "code",
   "execution_count": 7,
   "id": "3f6e0c38-59ca-4df0-b28f-8c58044ea1f3",
   "metadata": {},
   "outputs": [],
   "source": [
    "import os\n",
    "import numpy as np\n",
    "import tensorflow as tf\n",
    "from tensorflow.keras.preprocessing.image import ImageDataGenerator\n",
    "from sklearn.model_selection import train_test_split\n",
    "\n",
    "# Define paths\n",
    "data_dir = '/Users/rohithasagadam/downloads/rice_leaf_diseases'\n",
    "categories = os.listdir(data_dir)\n",
    "\n",
    "# Prepare dataset\n",
    "data = []\n",
    "labels = []\n",
    "\n",
    "for category in categories:\n",
    "    category_path = os.path.join(data_dir, category)\n",
    "    # Check if it's a directory\n",
    "    if os.path.isdir(category_path):\n",
    "        for img in os.listdir(category_path):\n",
    "            img_path = os.path.join(category_path, img)\n",
    "            # Check if the file is an image\n",
    "            if img.lower().endswith(('.png', '.jpg', '.jpeg')):\n",
    "                image = tf.keras.preprocessing.image.load_img(img_path, target_size=(128, 128))\n",
    "                image_array = tf.keras.preprocessing.image.img_to_array(image)\n",
    "                data.append(image_array)\n",
    "                labels.append(categories.index(category))  # Get index of the category\n",
    "\n",
    "data = np.array(data)\n",
    "labels = np.array(labels)\n",
    "\n",
    "# Normalize data\n",
    "data = data / 255.0\n",
    "\n",
    "# Split the dataset\n",
    "X_train, X_test, y_train, y_test = train_test_split(data, labels, test_size=0.2, random_state=42)\n"
   ]
  },
  {
   "cell_type": "code",
   "execution_count": null,
   "id": "760cb990-93b3-4a14-9696-aeb8ea7bc77b",
   "metadata": {},
   "outputs": [],
   "source": [
    "\n"
   ]
  },
  {
   "cell_type": "code",
   "execution_count": 9,
   "id": "e322442e-957f-42f3-9249-aff6e31d0439",
   "metadata": {},
   "outputs": [
    {
     "name": "stderr",
     "output_type": "stream",
     "text": [
      "/opt/anaconda3/lib/python3.12/site-packages/keras/src/layers/convolutional/base_conv.py:107: UserWarning: Do not pass an `input_shape`/`input_dim` argument to a layer. When using Sequential models, prefer using an `Input(shape)` object as the first layer in the model instead.\n",
      "  super().__init__(activity_regularizer=activity_regularizer, **kwargs)\n"
     ]
    }
   ],
   "source": [
    "from tensorflow.keras.models import Sequential\n",
    "from tensorflow.keras.layers import Conv2D, MaxPooling2D, Flatten, Dense, Dropout\n",
    "\n",
    "model = Sequential([\n",
    "    Conv2D(32, (3, 3), activation='relu', input_shape=(128, 128, 3)),\n",
    "    MaxPooling2D(pool_size=(2, 2)),\n",
    "    \n",
    "    Conv2D(64, (3, 3), activation='relu'),\n",
    "    MaxPooling2D(pool_size=(2, 2)),\n",
    "    \n",
    "    Conv2D(128, (3, 3), activation='relu'),\n",
    "    MaxPooling2D(pool_size=(2, 2)),\n",
    "    \n",
    "    Flatten(),\n",
    "    Dense(128, activation='relu'),\n",
    "    Dropout(0.5),\n",
    "    Dense(len(categories), activation='softmax')\n",
    "])\n",
    "\n",
    "model.compile(optimizer='adam', loss='sparse_categorical_crossentropy', metrics=['accuracy'])\n"
   ]
  },
  {
   "cell_type": "code",
   "execution_count": 10,
   "id": "9cff33bd-30f0-42e1-9186-2959181464fe",
   "metadata": {},
   "outputs": [
    {
     "name": "stdout",
     "output_type": "stream",
     "text": [
      "Epoch 1/100\n"
     ]
    },
    {
     "name": "stderr",
     "output_type": "stream",
     "text": [
      "/opt/anaconda3/lib/python3.12/site-packages/keras/src/trainers/data_adapters/py_dataset_adapter.py:122: UserWarning: Your `PyDataset` class should call `super().__init__(**kwargs)` in its constructor. `**kwargs` can include `workers`, `use_multiprocessing`, `max_queue_size`. Do not pass these arguments to `fit()`, as they will be ignored.\n",
      "  self._warn_if_super_not_called()\n"
     ]
    },
    {
     "name": "stdout",
     "output_type": "stream",
     "text": [
      "\u001b[1m2/2\u001b[0m \u001b[32m━━━━━━━━━━━━━━━━━━━━\u001b[0m\u001b[37m\u001b[0m \u001b[1m2s\u001b[0m 822ms/step - accuracy: 0.2413 - loss: 1.4162 - val_accuracy: 0.3333 - val_loss: 1.1432\n",
      "Epoch 2/100\n",
      "\u001b[1m2/2\u001b[0m \u001b[32m━━━━━━━━━━━━━━━━━━━━\u001b[0m\u001b[37m\u001b[0m \u001b[1m2s\u001b[0m 688ms/step - accuracy: 0.4271 - loss: 1.2068 - val_accuracy: 0.5000 - val_loss: 1.1292\n",
      "Epoch 3/100\n",
      "\u001b[1m2/2\u001b[0m \u001b[32m━━━━━━━━━━━━━━━━━━━━\u001b[0m\u001b[37m\u001b[0m \u001b[1m2s\u001b[0m 1s/step - accuracy: 0.3889 - loss: 1.1790 - val_accuracy: 0.3333 - val_loss: 1.1152\n",
      "Epoch 4/100\n",
      "\u001b[1m2/2\u001b[0m \u001b[32m━━━━━━━━━━━━━━━━━━━━\u001b[0m\u001b[37m\u001b[0m \u001b[1m2s\u001b[0m 808ms/step - accuracy: 0.3976 - loss: 1.1144 - val_accuracy: 0.4583 - val_loss: 1.0688\n",
      "Epoch 5/100\n",
      "\u001b[1m2/2\u001b[0m \u001b[32m━━━━━━━━━━━━━━━━━━━━\u001b[0m\u001b[37m\u001b[0m \u001b[1m2s\u001b[0m 1s/step - accuracy: 0.4653 - loss: 1.1063 - val_accuracy: 0.5833 - val_loss: 1.0222\n",
      "Epoch 6/100\n",
      "\u001b[1m2/2\u001b[0m \u001b[32m━━━━━━━━━━━━━━━━━━━━\u001b[0m\u001b[37m\u001b[0m \u001b[1m2s\u001b[0m 709ms/step - accuracy: 0.4931 - loss: 1.0332 - val_accuracy: 0.3750 - val_loss: 1.1243\n",
      "Epoch 7/100\n",
      "\u001b[1m2/2\u001b[0m \u001b[32m━━━━━━━━━━━━━━━━━━━━\u001b[0m\u001b[37m\u001b[0m \u001b[1m2s\u001b[0m 1s/step - accuracy: 0.4444 - loss: 1.0793 - val_accuracy: 0.4167 - val_loss: 1.0961\n",
      "Epoch 8/100\n",
      "\u001b[1m2/2\u001b[0m \u001b[32m━━━━━━━━━━━━━━━━━━━━\u001b[0m\u001b[37m\u001b[0m \u001b[1m2s\u001b[0m 1s/step - accuracy: 0.4479 - loss: 0.9765 - val_accuracy: 0.6667 - val_loss: 0.9851\n",
      "Epoch 9/100\n",
      "\u001b[1m2/2\u001b[0m \u001b[32m━━━━━━━━━━━━━━━━━━━━\u001b[0m\u001b[37m\u001b[0m \u001b[1m2s\u001b[0m 1s/step - accuracy: 0.5104 - loss: 1.0121 - val_accuracy: 0.6250 - val_loss: 0.9983\n",
      "Epoch 10/100\n",
      "\u001b[1m2/2\u001b[0m \u001b[32m━━━━━━━━━━━━━━━━━━━━\u001b[0m\u001b[37m\u001b[0m \u001b[1m2s\u001b[0m 1s/step - accuracy: 0.5556 - loss: 0.9161 - val_accuracy: 0.4167 - val_loss: 1.1600\n",
      "Epoch 11/100\n",
      "\u001b[1m2/2\u001b[0m \u001b[32m━━━━━━━━━━━━━━━━━━━━\u001b[0m\u001b[37m\u001b[0m \u001b[1m2s\u001b[0m 1s/step - accuracy: 0.4861 - loss: 0.9906 - val_accuracy: 0.6667 - val_loss: 0.9457\n",
      "Epoch 12/100\n",
      "\u001b[1m2/2\u001b[0m \u001b[32m━━━━━━━━━━━━━━━━━━━━\u001b[0m\u001b[37m\u001b[0m \u001b[1m2s\u001b[0m 806ms/step - accuracy: 0.4983 - loss: 0.9546 - val_accuracy: 0.6250 - val_loss: 0.8923\n",
      "Epoch 13/100\n",
      "\u001b[1m2/2\u001b[0m \u001b[32m━━━━━━━━━━━━━━━━━━━━\u001b[0m\u001b[37m\u001b[0m \u001b[1m2s\u001b[0m 660ms/step - accuracy: 0.4965 - loss: 1.0067 - val_accuracy: 0.5000 - val_loss: 1.0700\n",
      "Epoch 14/100\n",
      "\u001b[1m2/2\u001b[0m \u001b[32m━━━━━━━━━━━━━━━━━━━━\u001b[0m\u001b[37m\u001b[0m \u001b[1m2s\u001b[0m 1s/step - accuracy: 0.5174 - loss: 0.9529 - val_accuracy: 0.4167 - val_loss: 1.1258\n",
      "Epoch 15/100\n",
      "\u001b[1m2/2\u001b[0m \u001b[32m━━━━━━━━━━━━━━━━━━━━\u001b[0m\u001b[37m\u001b[0m \u001b[1m2s\u001b[0m 863ms/step - accuracy: 0.4896 - loss: 0.9958 - val_accuracy: 0.6667 - val_loss: 0.9038\n",
      "Epoch 16/100\n",
      "\u001b[1m2/2\u001b[0m \u001b[32m━━━━━━━━━━━━━━━━━━━━\u001b[0m\u001b[37m\u001b[0m \u001b[1m2s\u001b[0m 678ms/step - accuracy: 0.5399 - loss: 0.9367 - val_accuracy: 0.7083 - val_loss: 0.8780\n",
      "Epoch 17/100\n",
      "\u001b[1m2/2\u001b[0m \u001b[32m━━━━━━━━━━━━━━━━━━━━\u001b[0m\u001b[37m\u001b[0m \u001b[1m2s\u001b[0m 655ms/step - accuracy: 0.5503 - loss: 0.9337 - val_accuracy: 0.5833 - val_loss: 0.9912\n",
      "Epoch 18/100\n",
      "\u001b[1m2/2\u001b[0m \u001b[32m━━━━━━━━━━━━━━━━━━━━\u001b[0m\u001b[37m\u001b[0m \u001b[1m2s\u001b[0m 1s/step - accuracy: 0.5868 - loss: 0.8448 - val_accuracy: 0.7083 - val_loss: 0.9041\n",
      "Epoch 19/100\n",
      "\u001b[1m2/2\u001b[0m \u001b[32m━━━━━━━━━━━━━━━━━━━━\u001b[0m\u001b[37m\u001b[0m \u001b[1m2s\u001b[0m 630ms/step - accuracy: 0.6649 - loss: 0.8283 - val_accuracy: 0.7083 - val_loss: 0.8425\n",
      "Epoch 20/100\n",
      "\u001b[1m2/2\u001b[0m \u001b[32m━━━━━━━━━━━━━━━━━━━━\u001b[0m\u001b[37m\u001b[0m \u001b[1m2s\u001b[0m 1s/step - accuracy: 0.7361 - loss: 0.8419 - val_accuracy: 0.5417 - val_loss: 1.1192\n",
      "Epoch 21/100\n",
      "\u001b[1m2/2\u001b[0m \u001b[32m━━━━━━━━━━━━━━━━━━━━\u001b[0m\u001b[37m\u001b[0m \u001b[1m2s\u001b[0m 1s/step - accuracy: 0.5660 - loss: 0.8045 - val_accuracy: 0.6667 - val_loss: 1.0928\n",
      "Epoch 22/100\n",
      "\u001b[1m2/2\u001b[0m \u001b[32m━━━━━━━━━━━━━━━━━━━━\u001b[0m\u001b[37m\u001b[0m \u001b[1m3s\u001b[0m 2s/step - accuracy: 0.7188 - loss: 0.7436 - val_accuracy: 0.5833 - val_loss: 0.8057\n",
      "Epoch 23/100\n",
      "\u001b[1m2/2\u001b[0m \u001b[32m━━━━━━━━━━━━━━━━━━━━\u001b[0m\u001b[37m\u001b[0m \u001b[1m2s\u001b[0m 1s/step - accuracy: 0.6597 - loss: 0.7972 - val_accuracy: 0.6250 - val_loss: 0.8933\n",
      "Epoch 24/100\n",
      "\u001b[1m2/2\u001b[0m \u001b[32m━━━━━━━━━━━━━━━━━━━━\u001b[0m\u001b[37m\u001b[0m \u001b[1m2s\u001b[0m 618ms/step - accuracy: 0.6649 - loss: 0.7354 - val_accuracy: 0.5833 - val_loss: 0.9853\n",
      "Epoch 25/100\n",
      "\u001b[1m2/2\u001b[0m \u001b[32m━━━━━━━━━━━━━━━━━━━━\u001b[0m\u001b[37m\u001b[0m \u001b[1m3s\u001b[0m 2s/step - accuracy: 0.6562 - loss: 0.8087 - val_accuracy: 0.6250 - val_loss: 0.7465\n",
      "Epoch 26/100\n",
      "\u001b[1m2/2\u001b[0m \u001b[32m━━━━━━━━━━━━━━━━━━━━\u001b[0m\u001b[37m\u001b[0m \u001b[1m2s\u001b[0m 748ms/step - accuracy: 0.6684 - loss: 0.8170 - val_accuracy: 0.6667 - val_loss: 0.9924\n",
      "Epoch 27/100\n",
      "\u001b[1m2/2\u001b[0m \u001b[32m━━━━━━━━━━━━━━━━━━━━\u001b[0m\u001b[37m\u001b[0m \u001b[1m3s\u001b[0m 966ms/step - accuracy: 0.6146 - loss: 0.7778 - val_accuracy: 0.6250 - val_loss: 1.0437\n",
      "Epoch 28/100\n",
      "\u001b[1m2/2\u001b[0m \u001b[32m━━━━━━━━━━━━━━━━━━━━\u001b[0m\u001b[37m\u001b[0m \u001b[1m3s\u001b[0m 1s/step - accuracy: 0.6285 - loss: 0.7957 - val_accuracy: 0.6250 - val_loss: 0.7136\n",
      "Epoch 29/100\n",
      "\u001b[1m2/2\u001b[0m \u001b[32m━━━━━━━━━━━━━━━━━━━━\u001b[0m\u001b[37m\u001b[0m \u001b[1m2s\u001b[0m 1s/step - accuracy: 0.6736 - loss: 0.8648 - val_accuracy: 0.7083 - val_loss: 0.7168\n",
      "Epoch 30/100\n",
      "\u001b[1m2/2\u001b[0m \u001b[32m━━━━━━━━━━━━━━━━━━━━\u001b[0m\u001b[37m\u001b[0m \u001b[1m2s\u001b[0m 1s/step - accuracy: 0.7326 - loss: 0.6805 - val_accuracy: 0.6250 - val_loss: 0.9650\n",
      "Epoch 31/100\n",
      "\u001b[1m2/2\u001b[0m \u001b[32m━━━━━━━━━━━━━━━━━━━━\u001b[0m\u001b[37m\u001b[0m \u001b[1m2s\u001b[0m 1s/step - accuracy: 0.6944 - loss: 0.6950 - val_accuracy: 0.7083 - val_loss: 0.8831\n",
      "Epoch 32/100\n",
      "\u001b[1m2/2\u001b[0m \u001b[32m━━━━━━━━━━━━━━━━━━━━\u001b[0m\u001b[37m\u001b[0m \u001b[1m2s\u001b[0m 1s/step - accuracy: 0.7778 - loss: 0.6200 - val_accuracy: 0.7083 - val_loss: 0.6888\n",
      "Epoch 33/100\n",
      "\u001b[1m2/2\u001b[0m \u001b[32m━━━━━━━━━━━━━━━━━━━━\u001b[0m\u001b[37m\u001b[0m \u001b[1m2s\u001b[0m 1s/step - accuracy: 0.6701 - loss: 0.7623 - val_accuracy: 0.6667 - val_loss: 0.8960\n",
      "Epoch 34/100\n",
      "\u001b[1m2/2\u001b[0m \u001b[32m━━━━━━━━━━━━━━━━━━━━\u001b[0m\u001b[37m\u001b[0m \u001b[1m2s\u001b[0m 1s/step - accuracy: 0.6215 - loss: 0.8864 - val_accuracy: 0.6250 - val_loss: 1.0451\n",
      "Epoch 35/100\n",
      "\u001b[1m2/2\u001b[0m \u001b[32m━━━━━━━━━━━━━━━━━━━━\u001b[0m\u001b[37m\u001b[0m \u001b[1m2s\u001b[0m 1s/step - accuracy: 0.6319 - loss: 0.7338 - val_accuracy: 0.7083 - val_loss: 0.9523\n",
      "Epoch 36/100\n",
      "\u001b[1m2/2\u001b[0m \u001b[32m━━━━━━━━━━━━━━━━━━━━\u001b[0m\u001b[37m\u001b[0m \u001b[1m2s\u001b[0m 781ms/step - accuracy: 0.6788 - loss: 0.7451 - val_accuracy: 0.7500 - val_loss: 0.6958\n",
      "Epoch 37/100\n",
      "\u001b[1m2/2\u001b[0m \u001b[32m━━━━━━━━━━━━━━━━━━━━\u001b[0m\u001b[37m\u001b[0m \u001b[1m3s\u001b[0m 2s/step - accuracy: 0.7708 - loss: 0.5375 - val_accuracy: 0.6667 - val_loss: 0.8627\n",
      "Epoch 38/100\n",
      "\u001b[1m2/2\u001b[0m \u001b[32m━━━━━━━━━━━━━━━━━━━━\u001b[0m\u001b[37m\u001b[0m \u001b[1m3s\u001b[0m 1s/step - accuracy: 0.6302 - loss: 0.7600 - val_accuracy: 0.7500 - val_loss: 0.6041\n",
      "Epoch 39/100\n",
      "\u001b[1m2/2\u001b[0m \u001b[32m━━━━━━━━━━━━━━━━━━━━\u001b[0m\u001b[37m\u001b[0m \u001b[1m3s\u001b[0m 761ms/step - accuracy: 0.6875 - loss: 0.6911 - val_accuracy: 0.8333 - val_loss: 0.7007\n",
      "Epoch 40/100\n",
      "\u001b[1m2/2\u001b[0m \u001b[32m━━━━━━━━━━━━━━━━━━━━\u001b[0m\u001b[37m\u001b[0m \u001b[1m2s\u001b[0m 2s/step - accuracy: 0.6806 - loss: 0.6677 - val_accuracy: 0.8333 - val_loss: 0.8626\n",
      "Epoch 41/100\n",
      "\u001b[1m2/2\u001b[0m \u001b[32m━━━━━━━━━━━━━━━━━━━━\u001b[0m\u001b[37m\u001b[0m \u001b[1m2s\u001b[0m 680ms/step - accuracy: 0.7569 - loss: 0.6261 - val_accuracy: 0.7500 - val_loss: 0.7351\n",
      "Epoch 42/100\n",
      "\u001b[1m2/2\u001b[0m \u001b[32m━━━━━━━━━━━━━━━━━━━━\u001b[0m\u001b[37m\u001b[0m \u001b[1m2s\u001b[0m 1s/step - accuracy: 0.7639 - loss: 0.5790 - val_accuracy: 0.7500 - val_loss: 0.7943\n",
      "Epoch 43/100\n",
      "\u001b[1m2/2\u001b[0m \u001b[32m━━━━━━━━━━━━━━━━━━━━\u001b[0m\u001b[37m\u001b[0m \u001b[1m2s\u001b[0m 1s/step - accuracy: 0.7188 - loss: 0.5865 - val_accuracy: 0.7917 - val_loss: 0.9479\n",
      "Epoch 44/100\n",
      "\u001b[1m2/2\u001b[0m \u001b[32m━━━━━━━━━━━━━━━━━━━━\u001b[0m\u001b[37m\u001b[0m \u001b[1m2s\u001b[0m 1s/step - accuracy: 0.7743 - loss: 0.5139 - val_accuracy: 0.8333 - val_loss: 0.8055\n",
      "Epoch 45/100\n",
      "\u001b[1m2/2\u001b[0m \u001b[32m━━━━━━━━━━━━━━━━━━━━\u001b[0m\u001b[37m\u001b[0m \u001b[1m2s\u001b[0m 679ms/step - accuracy: 0.7934 - loss: 0.5499 - val_accuracy: 0.7083 - val_loss: 1.1009\n",
      "Epoch 46/100\n",
      "\u001b[1m2/2\u001b[0m \u001b[32m━━━━━━━━━━━━━━━━━━━━\u001b[0m\u001b[37m\u001b[0m \u001b[1m2s\u001b[0m 646ms/step - accuracy: 0.6701 - loss: 0.6979 - val_accuracy: 0.7500 - val_loss: 0.6736\n",
      "Epoch 47/100\n",
      "\u001b[1m2/2\u001b[0m \u001b[32m━━━━━━━━━━━━━━━━━━━━\u001b[0m\u001b[37m\u001b[0m \u001b[1m2s\u001b[0m 1s/step - accuracy: 0.7639 - loss: 0.5624 - val_accuracy: 0.7917 - val_loss: 0.6412\n",
      "Epoch 48/100\n",
      "\u001b[1m2/2\u001b[0m \u001b[32m━━━━━━━━━━━━━━━━━━━━\u001b[0m\u001b[37m\u001b[0m \u001b[1m2s\u001b[0m 748ms/step - accuracy: 0.7969 - loss: 0.5695 - val_accuracy: 0.6250 - val_loss: 1.0144\n",
      "Epoch 49/100\n",
      "\u001b[1m2/2\u001b[0m \u001b[32m━━━━━━━━━━━━━━━━━━━━\u001b[0m\u001b[37m\u001b[0m \u001b[1m2s\u001b[0m 1s/step - accuracy: 0.6632 - loss: 0.7003 - val_accuracy: 0.7500 - val_loss: 0.8515\n",
      "Epoch 50/100\n",
      "\u001b[1m2/2\u001b[0m \u001b[32m━━━━━━━━━━━━━━━━━━━━\u001b[0m\u001b[37m\u001b[0m \u001b[1m2s\u001b[0m 677ms/step - accuracy: 0.7639 - loss: 0.5129 - val_accuracy: 0.7917 - val_loss: 0.6282\n",
      "Epoch 51/100\n",
      "\u001b[1m2/2\u001b[0m \u001b[32m━━━━━━━━━━━━━━━━━━━━\u001b[0m\u001b[37m\u001b[0m \u001b[1m2s\u001b[0m 1s/step - accuracy: 0.7847 - loss: 0.5528 - val_accuracy: 0.6667 - val_loss: 0.6499\n",
      "Epoch 52/100\n",
      "\u001b[1m2/2\u001b[0m \u001b[32m━━━━━━━━━━━━━━━━━━━━\u001b[0m\u001b[37m\u001b[0m \u001b[1m3s\u001b[0m 956ms/step - accuracy: 0.7500 - loss: 0.6068 - val_accuracy: 0.7083 - val_loss: 0.8599\n",
      "Epoch 53/100\n",
      "\u001b[1m2/2\u001b[0m \u001b[32m━━━━━━━━━━━━━━━━━━━━\u001b[0m\u001b[37m\u001b[0m \u001b[1m2s\u001b[0m 1s/step - accuracy: 0.7465 - loss: 0.5240 - val_accuracy: 0.7917 - val_loss: 0.9422\n",
      "Epoch 54/100\n",
      "\u001b[1m2/2\u001b[0m \u001b[32m━━━━━━━━━━━━━━━━━━━━\u001b[0m\u001b[37m\u001b[0m \u001b[1m2s\u001b[0m 1s/step - accuracy: 0.7118 - loss: 0.6447 - val_accuracy: 0.8333 - val_loss: 0.7851\n",
      "Epoch 55/100\n",
      "\u001b[1m2/2\u001b[0m \u001b[32m━━━━━━━━━━━━━━━━━━━━\u001b[0m\u001b[37m\u001b[0m \u001b[1m2s\u001b[0m 1s/step - accuracy: 0.7708 - loss: 0.5584 - val_accuracy: 0.6667 - val_loss: 0.9160\n",
      "Epoch 56/100\n",
      "\u001b[1m2/2\u001b[0m \u001b[32m━━━━━━━━━━━━━━━━━━━━\u001b[0m\u001b[37m\u001b[0m \u001b[1m2s\u001b[0m 831ms/step - accuracy: 0.7656 - loss: 0.5660 - val_accuracy: 0.8333 - val_loss: 0.6152\n",
      "Epoch 57/100\n",
      "\u001b[1m2/2\u001b[0m \u001b[32m━━━━━━━━━━━━━━━━━━━━\u001b[0m\u001b[37m\u001b[0m \u001b[1m2s\u001b[0m 689ms/step - accuracy: 0.8299 - loss: 0.4677 - val_accuracy: 0.8750 - val_loss: 0.7496\n",
      "Epoch 58/100\n",
      "\u001b[1m2/2\u001b[0m \u001b[32m━━━━━━━━━━━━━━━━━━━━\u001b[0m\u001b[37m\u001b[0m \u001b[1m2s\u001b[0m 860ms/step - accuracy: 0.8194 - loss: 0.5231 - val_accuracy: 0.7500 - val_loss: 1.1561\n",
      "Epoch 59/100\n",
      "\u001b[1m2/2\u001b[0m \u001b[32m━━━━━━━━━━━━━━━━━━━━\u001b[0m\u001b[37m\u001b[0m \u001b[1m2s\u001b[0m 691ms/step - accuracy: 0.7014 - loss: 0.5427 - val_accuracy: 0.8333 - val_loss: 0.7334\n",
      "Epoch 60/100\n",
      "\u001b[1m2/2\u001b[0m \u001b[32m━━━━━━━━━━━━━━━━━━━━\u001b[0m\u001b[37m\u001b[0m \u001b[1m2s\u001b[0m 710ms/step - accuracy: 0.8229 - loss: 0.4274 - val_accuracy: 0.8333 - val_loss: 0.5465\n",
      "Epoch 61/100\n",
      "\u001b[1m2/2\u001b[0m \u001b[32m━━━━━━━━━━━━━━━━━━━━\u001b[0m\u001b[37m\u001b[0m \u001b[1m2s\u001b[0m 1s/step - accuracy: 0.8090 - loss: 0.5185 - val_accuracy: 0.7917 - val_loss: 0.8526\n",
      "Epoch 62/100\n",
      "\u001b[1m2/2\u001b[0m \u001b[32m━━━━━━━━━━━━━━━━━━━━\u001b[0m\u001b[37m\u001b[0m \u001b[1m2s\u001b[0m 1s/step - accuracy: 0.8681 - loss: 0.4450 - val_accuracy: 0.8333 - val_loss: 0.9418\n",
      "Epoch 63/100\n",
      "\u001b[1m2/2\u001b[0m \u001b[32m━━━━━━━━━━━━━━━━━━━━\u001b[0m\u001b[37m\u001b[0m \u001b[1m3s\u001b[0m 1s/step - accuracy: 0.8038 - loss: 0.4879 - val_accuracy: 0.8333 - val_loss: 0.6568\n",
      "Epoch 64/100\n",
      "\u001b[1m2/2\u001b[0m \u001b[32m━━━━━━━━━━━━━━━━━━━━\u001b[0m\u001b[37m\u001b[0m \u001b[1m2s\u001b[0m 680ms/step - accuracy: 0.8576 - loss: 0.3957 - val_accuracy: 0.8333 - val_loss: 0.5454\n",
      "Epoch 65/100\n",
      "\u001b[1m2/2\u001b[0m \u001b[32m━━━━━━━━━━━━━━━━━━━━\u001b[0m\u001b[37m\u001b[0m \u001b[1m3s\u001b[0m 2s/step - accuracy: 0.8819 - loss: 0.3650 - val_accuracy: 0.8750 - val_loss: 0.5686\n",
      "Epoch 66/100\n",
      "\u001b[1m2/2\u001b[0m \u001b[32m━━━━━━━━━━━━━━━━━━━━\u001b[0m\u001b[37m\u001b[0m \u001b[1m2s\u001b[0m 1s/step - accuracy: 0.8160 - loss: 0.3723 - val_accuracy: 0.8750 - val_loss: 0.8268\n",
      "Epoch 67/100\n",
      "\u001b[1m2/2\u001b[0m \u001b[32m━━━━━━━━━━━━━━━━━━━━\u001b[0m\u001b[37m\u001b[0m \u001b[1m3s\u001b[0m 2s/step - accuracy: 0.8507 - loss: 0.4137 - val_accuracy: 0.8333 - val_loss: 0.9321\n",
      "Epoch 68/100\n",
      "\u001b[1m2/2\u001b[0m \u001b[32m━━━━━━━━━━━━━━━━━━━━\u001b[0m\u001b[37m\u001b[0m \u001b[1m2s\u001b[0m 673ms/step - accuracy: 0.8160 - loss: 0.3984 - val_accuracy: 0.8750 - val_loss: 0.6534\n",
      "Epoch 69/100\n",
      "\u001b[1m2/2\u001b[0m \u001b[32m━━━━━━━━━━━━━━━━━━━━\u001b[0m\u001b[37m\u001b[0m \u001b[1m3s\u001b[0m 2s/step - accuracy: 0.8056 - loss: 0.4149 - val_accuracy: 0.8333 - val_loss: 0.6219\n",
      "Epoch 70/100\n",
      "\u001b[1m2/2\u001b[0m \u001b[32m━━━━━━━━━━━━━━━━━━━━\u001b[0m\u001b[37m\u001b[0m \u001b[1m2s\u001b[0m 682ms/step - accuracy: 0.8750 - loss: 0.3348 - val_accuracy: 0.8333 - val_loss: 0.5638\n",
      "Epoch 71/100\n",
      "\u001b[1m2/2\u001b[0m \u001b[32m━━━━━━━━━━━━━━━━━━━━\u001b[0m\u001b[37m\u001b[0m \u001b[1m2s\u001b[0m 1s/step - accuracy: 0.8958 - loss: 0.3286 - val_accuracy: 0.8750 - val_loss: 0.5188\n",
      "Epoch 72/100\n",
      "\u001b[1m2/2\u001b[0m \u001b[32m━━━━━━━━━━━━━━━━━━━━\u001b[0m\u001b[37m\u001b[0m \u001b[1m2s\u001b[0m 700ms/step - accuracy: 0.8559 - loss: 0.3552 - val_accuracy: 0.8750 - val_loss: 0.5429\n",
      "Epoch 73/100\n",
      "\u001b[1m2/2\u001b[0m \u001b[32m━━━━━━━━━━━━━━━━━━━━\u001b[0m\u001b[37m\u001b[0m \u001b[1m2s\u001b[0m 675ms/step - accuracy: 0.8455 - loss: 0.3595 - val_accuracy: 0.8333 - val_loss: 0.7425\n",
      "Epoch 74/100\n",
      "\u001b[1m2/2\u001b[0m \u001b[32m━━━━━━━━━━━━━━━━━━━━\u001b[0m\u001b[37m\u001b[0m \u001b[1m2s\u001b[0m 1s/step - accuracy: 0.9132 - loss: 0.3078 - val_accuracy: 0.8333 - val_loss: 0.5948\n",
      "Epoch 75/100\n",
      "\u001b[1m2/2\u001b[0m \u001b[32m━━━━━━━━━━━━━━━━━━━━\u001b[0m\u001b[37m\u001b[0m \u001b[1m2s\u001b[0m 824ms/step - accuracy: 0.8785 - loss: 0.2960 - val_accuracy: 0.8750 - val_loss: 0.3207\n",
      "Epoch 76/100\n",
      "\u001b[1m2/2\u001b[0m \u001b[32m━━━━━━━━━━━━━━━━━━━━\u001b[0m\u001b[37m\u001b[0m \u001b[1m2s\u001b[0m 1s/step - accuracy: 0.8073 - loss: 0.4875 - val_accuracy: 0.8750 - val_loss: 0.4764\n",
      "Epoch 77/100\n",
      "\u001b[1m2/2\u001b[0m \u001b[32m━━━━━━━━━━━━━━━━━━━━\u001b[0m\u001b[37m\u001b[0m \u001b[1m2s\u001b[0m 705ms/step - accuracy: 0.8160 - loss: 0.3730 - val_accuracy: 0.8333 - val_loss: 0.8042\n",
      "Epoch 78/100\n",
      "\u001b[1m2/2\u001b[0m \u001b[32m━━━━━━━━━━━━━━━━━━━━\u001b[0m\u001b[37m\u001b[0m \u001b[1m2s\u001b[0m 1s/step - accuracy: 0.8559 - loss: 0.3388 - val_accuracy: 0.8750 - val_loss: 0.6303\n",
      "Epoch 79/100\n",
      "\u001b[1m2/2\u001b[0m \u001b[32m━━━━━━━━━━━━━━━━━━━━\u001b[0m\u001b[37m\u001b[0m \u001b[1m2s\u001b[0m 1s/step - accuracy: 0.8542 - loss: 0.3344 - val_accuracy: 0.8333 - val_loss: 0.7373\n",
      "Epoch 80/100\n",
      "\u001b[1m2/2\u001b[0m \u001b[32m━━━━━━━━━━━━━━━━━━━━\u001b[0m\u001b[37m\u001b[0m \u001b[1m2s\u001b[0m 723ms/step - accuracy: 0.8438 - loss: 0.3905 - val_accuracy: 0.7500 - val_loss: 0.6355\n",
      "Epoch 81/100\n",
      "\u001b[1m2/2\u001b[0m \u001b[32m━━━━━━━━━━━━━━━━━━━━\u001b[0m\u001b[37m\u001b[0m \u001b[1m2s\u001b[0m 1s/step - accuracy: 0.8715 - loss: 0.3664 - val_accuracy: 0.8750 - val_loss: 0.7751\n",
      "Epoch 82/100\n",
      "\u001b[1m2/2\u001b[0m \u001b[32m━━━━━━━━━━━━━━━━━━━━\u001b[0m\u001b[37m\u001b[0m \u001b[1m2s\u001b[0m 1s/step - accuracy: 0.8472 - loss: 0.3630 - val_accuracy: 0.8333 - val_loss: 0.7446\n",
      "Epoch 83/100\n",
      "\u001b[1m2/2\u001b[0m \u001b[32m━━━━━━━━━━━━━━━━━━━━\u001b[0m\u001b[37m\u001b[0m \u001b[1m2s\u001b[0m 1s/step - accuracy: 0.8819 - loss: 0.3212 - val_accuracy: 0.9167 - val_loss: 0.5851\n",
      "Epoch 84/100\n",
      "\u001b[1m2/2\u001b[0m \u001b[32m━━━━━━━━━━━━━━━━━━━━\u001b[0m\u001b[37m\u001b[0m \u001b[1m2s\u001b[0m 1s/step - accuracy: 0.8924 - loss: 0.3220 - val_accuracy: 0.8750 - val_loss: 0.4239\n",
      "Epoch 85/100\n",
      "\u001b[1m2/2\u001b[0m \u001b[32m━━━━━━━━━━━━━━━━━━━━\u001b[0m\u001b[37m\u001b[0m \u001b[1m2s\u001b[0m 767ms/step - accuracy: 0.8872 - loss: 0.2792 - val_accuracy: 0.8750 - val_loss: 0.5011\n",
      "Epoch 86/100\n",
      "\u001b[1m2/2\u001b[0m \u001b[32m━━━━━━━━━━━━━━━━━━━━\u001b[0m\u001b[37m\u001b[0m \u001b[1m2s\u001b[0m 691ms/step - accuracy: 0.8385 - loss: 0.3155 - val_accuracy: 0.9167 - val_loss: 0.5374\n",
      "Epoch 87/100\n",
      "\u001b[1m2/2\u001b[0m \u001b[32m━━━━━━━━━━━━━━━━━━━━\u001b[0m\u001b[37m\u001b[0m \u001b[1m2s\u001b[0m 1s/step - accuracy: 0.8889 - loss: 0.2680 - val_accuracy: 0.8750 - val_loss: 0.6253\n",
      "Epoch 88/100\n",
      "\u001b[1m2/2\u001b[0m \u001b[32m━━━━━━━━━━━━━━━━━━━━\u001b[0m\u001b[37m\u001b[0m \u001b[1m2s\u001b[0m 1s/step - accuracy: 0.8611 - loss: 0.2909 - val_accuracy: 0.9167 - val_loss: 0.4079\n",
      "Epoch 89/100\n",
      "\u001b[1m2/2\u001b[0m \u001b[32m━━━━━━━━━━━━━━━━━━━━\u001b[0m\u001b[37m\u001b[0m \u001b[1m2s\u001b[0m 1s/step - accuracy: 0.8194 - loss: 0.3885 - val_accuracy: 0.7917 - val_loss: 0.7638\n",
      "Epoch 90/100\n",
      "\u001b[1m2/2\u001b[0m \u001b[32m━━━━━━━━━━━━━━━━━━━━\u001b[0m\u001b[37m\u001b[0m \u001b[1m2s\u001b[0m 1s/step - accuracy: 0.9201 - loss: 0.2663 - val_accuracy: 0.7083 - val_loss: 0.7736\n",
      "Epoch 91/100\n",
      "\u001b[1m2/2\u001b[0m \u001b[32m━━━━━━━━━━━━━━━━━━━━\u001b[0m\u001b[37m\u001b[0m \u001b[1m2s\u001b[0m 1s/step - accuracy: 0.8368 - loss: 0.4443 - val_accuracy: 0.8750 - val_loss: 0.5861\n",
      "Epoch 92/100\n",
      "\u001b[1m2/2\u001b[0m \u001b[32m━━━━━━━━━━━━━━━━━━━━\u001b[0m\u001b[37m\u001b[0m \u001b[1m2s\u001b[0m 1s/step - accuracy: 0.8507 - loss: 0.3272 - val_accuracy: 0.8750 - val_loss: 0.5328\n",
      "Epoch 93/100\n",
      "\u001b[1m2/2\u001b[0m \u001b[32m━━━━━━━━━━━━━━━━━━━━\u001b[0m\u001b[37m\u001b[0m \u001b[1m2s\u001b[0m 2s/step - accuracy: 0.8854 - loss: 0.2689 - val_accuracy: 0.9167 - val_loss: 0.4587\n",
      "Epoch 94/100\n",
      "\u001b[1m2/2\u001b[0m \u001b[32m━━━━━━━━━━━━━━━━━━━━\u001b[0m\u001b[37m\u001b[0m \u001b[1m2s\u001b[0m 755ms/step - accuracy: 0.8698 - loss: 0.2976 - val_accuracy: 0.9167 - val_loss: 0.6599\n",
      "Epoch 95/100\n",
      "\u001b[1m2/2\u001b[0m \u001b[32m━━━━━━━━━━━━━━━━━━━━\u001b[0m\u001b[37m\u001b[0m \u001b[1m2s\u001b[0m 1s/step - accuracy: 0.8889 - loss: 0.3123 - val_accuracy: 0.8750 - val_loss: 0.6727\n",
      "Epoch 96/100\n",
      "\u001b[1m2/2\u001b[0m \u001b[32m━━━━━━━━━━━━━━━━━━━━\u001b[0m\u001b[37m\u001b[0m \u001b[1m3s\u001b[0m 2s/step - accuracy: 0.8854 - loss: 0.2718 - val_accuracy: 0.8333 - val_loss: 0.8442\n",
      "Epoch 97/100\n",
      "\u001b[1m2/2\u001b[0m \u001b[32m━━━━━━━━━━━━━━━━━━━━\u001b[0m\u001b[37m\u001b[0m \u001b[1m3s\u001b[0m 921ms/step - accuracy: 0.9549 - loss: 0.2035 - val_accuracy: 0.9167 - val_loss: 0.7155\n",
      "Epoch 98/100\n",
      "\u001b[1m2/2\u001b[0m \u001b[32m━━━━━━━━━━━━━━━━━━━━\u001b[0m\u001b[37m\u001b[0m \u001b[1m3s\u001b[0m 1s/step - accuracy: 0.9358 - loss: 0.2395 - val_accuracy: 0.8750 - val_loss: 0.8856\n",
      "Epoch 99/100\n",
      "\u001b[1m2/2\u001b[0m \u001b[32m━━━━━━━━━━━━━━━━━━━━\u001b[0m\u001b[37m\u001b[0m \u001b[1m3s\u001b[0m 2s/step - accuracy: 0.8924 - loss: 0.2437 - val_accuracy: 0.8750 - val_loss: 0.7711\n",
      "Epoch 100/100\n",
      "\u001b[1m2/2\u001b[0m \u001b[32m━━━━━━━━━━━━━━━━━━━━\u001b[0m\u001b[37m\u001b[0m \u001b[1m3s\u001b[0m 722ms/step - accuracy: 0.9149 - loss: 0.2414 - val_accuracy: 0.9167 - val_loss: 0.5587\n"
     ]
    },
    {
     "data": {
      "text/plain": [
       "<keras.src.callbacks.history.History at 0x174de9820>"
      ]
     },
     "execution_count": 10,
     "metadata": {},
     "output_type": "execute_result"
    }
   ],
   "source": [
    "# Data augmentation\n",
    "datagen = ImageDataGenerator(\n",
    "    rotation_range=20,\n",
    "    width_shift_range=0.2,\n",
    "    height_shift_range=0.2,\n",
    "    shear_range=0.2,\n",
    "    zoom_range=0.2,\n",
    "    horizontal_flip=True,\n",
    "    fill_mode='nearest'\n",
    ")\n",
    "\n",
    "model.fit(datagen.flow(X_train, y_train, batch_size=64), epochs=100, validation_data=(X_test, y_test))\n"
   ]
  },
  {
   "cell_type": "code",
   "execution_count": 18,
   "id": "0ce40889-5690-4d25-b420-25d4c6346714",
   "metadata": {},
   "outputs": [
    {
     "name": "stdout",
     "output_type": "stream",
     "text": [
      "\u001b[1m1/1\u001b[0m \u001b[32m━━━━━━━━━━━━━━━━━━━━\u001b[0m\u001b[37m\u001b[0m \u001b[1m0s\u001b[0m 56ms/step - accuracy: 0.9167 - loss: 0.5587\n",
      "Test Accuracy: 91.67%\n"
     ]
    }
   ],
   "source": [
    "loss, accuracy = model.evaluate(X_test, y_test)\n",
    "print(f'Test Accuracy: {accuracy * 100:.2f}%')\n"
   ]
  },
  {
   "cell_type": "code",
   "execution_count": 12,
   "id": "c5bc9c92-c270-480c-bef8-c3b32a6b2255",
   "metadata": {},
   "outputs": [
    {
     "name": "stdout",
     "output_type": "stream",
     "text": [
      "\u001b[1m1/1\u001b[0m \u001b[32m━━━━━━━━━━━━━━━━━━━━\u001b[0m\u001b[37m\u001b[0m \u001b[1m0s\u001b[0m 98ms/step\n",
      "Predicted Disease: Brown spot\n"
     ]
    }
   ],
   "source": [
    "def load_and_predict(image_path):\n",
    "    img = tf.keras.preprocessing.image.load_img(image_path, target_size=(128, 128))\n",
    "    img_array = tf.keras.preprocessing.image.img_to_array(img)\n",
    "    img_array = img_array / 255.0\n",
    "    img_array = np.expand_dims(img_array, axis=0)  # Add batch dimension\n",
    "    prediction = model.predict(img_array)\n",
    "    predicted_class = categories[np.argmax(prediction)]\n",
    "    return predicted_class\n",
    "\n",
    "# Example usage\n",
    "predicted_disease = load_and_predict('/Users/rohithasagadam/downloads/bacterial.jpg')\n",
    "print(f'Predicted Disease: {predicted_disease}')\n"
   ]
  },
  {
   "cell_type": "code",
   "execution_count": null,
   "id": "72d8582e-8d5e-4b51-b86d-745a1168253e",
   "metadata": {},
   "outputs": [],
   "source": []
  }
 ],
 "metadata": {
  "kernelspec": {
   "display_name": "Python 3 (ipykernel)",
   "language": "python",
   "name": "python3"
  },
  "language_info": {
   "codemirror_mode": {
    "name": "ipython",
    "version": 3
   },
   "file_extension": ".py",
   "mimetype": "text/x-python",
   "name": "python",
   "nbconvert_exporter": "python",
   "pygments_lexer": "ipython3",
   "version": "3.12.4"
  }
 },
 "nbformat": 4,
 "nbformat_minor": 5
}
